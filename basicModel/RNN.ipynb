{
 "cells": [
  {
   "cell_type": "markdown",
   "metadata": {},
   "source": [
    "# Session-based Recs with Transformers4Rec: RNN - Gated Recurrent Networks\n",
    "\n",
    "Followed a step by step tutorial:\n",
    "https://nvidia-merlin.github.io/Transformers4Rec/main/examples/tutorial/index.html"
   ]
  },
  {
   "cell_type": "markdown",
   "metadata": {},
   "source": [
    "## Imports"
   ]
  },
  {
   "cell_type": "code",
   "execution_count": 1,
   "metadata": {},
   "outputs": [],
   "source": [
    "import os\n",
    "import glob\n",
    "import pandas as pd\n",
    "import numpy as np\n",
    "\n",
    "from transformers4rec import tf as tr\n",
    "import tensorflow as tf\n",
    "from transformers4rec.tf.ranking_metric import NDCGAt, RecallAt"
   ]
  },
  {
   "cell_type": "markdown",
   "metadata": {},
   "source": [
    "## Instantiates Schema object from schema file"
   ]
  },
  {
   "cell_type": "code",
   "execution_count": 2,
   "metadata": {},
   "outputs": [],
   "source": [
    "INPUT_DATA_DIR = os.environ.get(\"INPUT_DATA_DIR\", '../data/')"
   ]
  },
  {
   "cell_type": "code",
   "execution_count": 3,
   "metadata": {},
   "outputs": [],
   "source": [
    "# define the output of the processed parquet files\n",
    "OUTPUT_DIR = os.environ.get(\"OUTPUT_DIR\", \"../data/sessions_by_day\")"
   ]
  },
  {
   "cell_type": "code",
   "execution_count": 4,
   "metadata": {},
   "outputs": [],
   "source": [
    "# features chosen to train on\n",
    "chosen_features = ['product_id-list_seq']"
   ]
  },
  {
   "cell_type": "code",
   "execution_count": 5,
   "metadata": {},
   "outputs": [],
   "source": [
    "from merlin_standard_lib import Schema\n",
    "# define schema object to pass it to the TabularSeqeunceFeatures class\n",
    "SCHEMA_PATH = os.path.join(INPUT_DATA_DIR, 'schema.pb')\n",
    "schema = Schema().from_proto_text(SCHEMA_PATH)\n",
    "schema = schema.select_by_name(chosen_features)"
   ]
  },
  {
   "cell_type": "code",
   "execution_count": 6,
   "metadata": {},
   "outputs": [
    {
     "name": "stdout",
     "output_type": "stream",
     "text": [
      "feature {\n",
      "  name: \"price_log_norm-list_seq\"\n",
      "  value_count {\n",
      "    min: 2\n",
      "    max: 20\n",
      "  }\n",
      "  type: FLOAT\n",
      "  float_domain {\n",
      "    name: \"price_log_norm-list_seq\"\n",
      "    min: -17.176351827798428\n",
      "    max: 1.7566816406751988\n",
      "  }\n",
      "  annotation {\n",
      "  }\n",
      "}\n",
      "feature {\n",
      "  name: \"product_recency_days_log_norm-list_seq\"\n",
      "  value_count {\n",
      "    min: 2\n",
      "    max: 20\n",
      "  }\n",
      "  type: FLOAT\n",
      "  float_domain {\n",
      "    name: \"product_recency_days_log_norm-list_seq\"\n",
      "    min: -6.913329620541532\n",
      "    max: 0.44860732556877836\n",
      "  }\n",
      "  annotation {\n",
      "  }\n",
      "}\n"
     ]
    }
   ],
   "source": [
    "# inspect the first lines of schema.pb\n",
    "!head -30 $SCHEMA_PATH"
   ]
  },
  {
   "cell_type": "markdown",
   "metadata": {},
   "source": [
    "### Defining the input block: `TabularSequenceFeatures`"
   ]
  },
  {
   "cell_type": "code",
   "execution_count": 7,
   "metadata": {},
   "outputs": [
    {
     "name": "stderr",
     "output_type": "stream",
     "text": [
      "2021-12-06 16:25:57.067041: I tensorflow/core/platform/cpu_feature_guard.cc:151] This TensorFlow binary is optimized with oneAPI Deep Neural Network Library (oneDNN) to use the following CPU instructions in performance-critical operations:  AVX2 AVX512F FMA\n",
      "To enable them in other operations, rebuild TensorFlow with the appropriate compiler flags.\n"
     ]
    }
   ],
   "source": [
    "sequence_length = 20\n",
    "inputs = tr.TabularSequenceFeatures.from_schema(\n",
    "    schema,\n",
    "    max_sequence_length = sequence_length,\n",
    "    masking = 'causal'\n",
    ")"
   ]
  },
  {
   "cell_type": "markdown",
   "metadata": {},
   "source": [
    "### Connecting the blocks with `SequentialBlock`\n",
    "when using tensorflow inplace of pytorch means replace block with a one layer sequential block as block has no constructor in tf but does in torch"
   ]
  },
  {
   "cell_type": "code",
   "execution_count": 8,
   "metadata": {},
   "outputs": [],
   "source": [
    "# d_model = 128\n",
    "# body = tr.SequentialBlock(\n",
    "#     [inputs,\n",
    "#     tr.MLPBlock([d_model]),\n",
    "#     tf.keras.layers.GRU(units=d_model)]\n",
    "# )\n",
    "body = tr.SequentialBlock([inputs, tr.MLPBlock([64])])"
   ]
  },
  {
   "cell_type": "markdown",
   "metadata": {},
   "source": [
    "### Item Prediction head and tying embeddings\n",
    "hf_format = True argument removed because it is not a keyword argument recognised by tensorflow"
   ]
  },
  {
   "cell_type": "code",
   "execution_count": 9,
   "metadata": {},
   "outputs": [],
   "source": [
    "# head = tr.Head(\n",
    "#     body,\n",
    "#     tr.NextItemPredictionTask(weight_tying=True,\n",
    "#                               metrics=[NDCGAt(top_ks=[10, 20], labels_onehot=True),\n",
    "#                                        RecallAt(top_ks=[10, 20], labels_onehot=True)]),\n",
    "# )\n",
    "# model = tr.Model(head)\n",
    "# head = tr.Head(\n",
    "#     body,\n",
    "#     tr.NextItemPredictionTask(weight_tying=True,\n",
    "#                               metrics=[tf.keras.metrics.AUC])\n",
    "# )\n",
    "# model = tr.Model(head)\n",
    "\n",
    "targets = {\"target\": tf.cast(tf.random.uniform((111916,), maxval=2, dtype=tf.int32), tf.float32)}\n",
    "model = tr.BinaryClassificationTask(\"target\").to_model(body, inputs)"
   ]
  },
  {
   "cell_type": "markdown",
   "metadata": {},
   "source": [
    "***disregard the dataloader function from schema used in tutorial as this is used in the transformers4rec.torch trainer class which doesn't exist for tf***"
   ]
  },
  {
   "cell_type": "markdown",
   "metadata": {},
   "source": [
    "### Model Fine-tuning and Incremental evaluation"
   ]
  },
  {
   "cell_type": "code",
   "execution_count": 10,
   "metadata": {},
   "outputs": [],
   "source": [
    "def iterate_over_df(\n",
    "    df: pd.DataFrame\n",
    "):  \n",
    "    def caller():\n",
    "        for _,j in df.iterrows():\n",
    "            yield(j['product_id-list_seq'])\n",
    "    return caller"
   ]
  },
  {
   "cell_type": "code",
   "execution_count": 11,
   "metadata": {},
   "outputs": [],
   "source": [
    "def ds_from_df(\n",
    "    df: pd.DataFrame\n",
    "):\n",
    "    output_shape_x = (\n",
    "        tf.TensorShape([None,])\n",
    "    )\n",
    "    df = tf.data.Dataset.from_generator(\n",
    "        iterate_over_df(df),\n",
    "        output_types=(tf.int32),\n",
    "        output_shapes = (output_shape_x)\n",
    "    )\n",
    "    return df"
   ]
  },
  {
   "cell_type": "code",
   "execution_count": 12,
   "metadata": {},
   "outputs": [],
   "source": [
    "def pad_dataset(\n",
    "        df,\n",
    "        batch_size: int,\n",
    "):\n",
    "    df = df.shuffle(5)\n",
    "    df = df.padded_batch(batch_size, padded_shapes = (([20,])), padding_values = ((0)),drop_remainder=True)\n",
    "    df = df.prefetch(buffer_size=tf.data.experimental.AUTOTUNE)\n",
    "\n",
    "    return df"
   ]
  },
  {
   "cell_type": "code",
   "execution_count": 13,
   "metadata": {},
   "outputs": [],
   "source": [
    "def data_to_dict(df_list,chosen_features):\n",
    "    df_dictionary = {}\n",
    "    if len(chosen_features) == 1:\n",
    "        df_dictionary[chosen_features[0]] = df_list[0]\n",
    "    else:\n",
    "        for i in range(len(df_list[0])):\n",
    "            df_dictionary[chosen_features[i]] = df_list[0][i]\n",
    "    return df_dictionary"
   ]
  },
  {
   "cell_type": "code",
   "execution_count": 27,
   "metadata": {},
   "outputs": [],
   "source": [
    "def get_dataset(df,batch_size,df_len):\n",
    "    df = ds_from_df(df)\n",
    "    df = pad_dataset(df,df_len)\n",
    "    df = data_to_dict(list(df),chosen_features)\n",
    "    targets = {\"target\": tf.cast(tf.random.uniform((df_len,), maxval=2, dtype=tf.int32), tf.float32)}\n",
    "    ds = tf.data.Dataset.from_tensor_slices((df, targets)).batch(50)\n",
    "    steps = int(np.floor(df_len/batch_size))\n",
    "\n",
    "    return ds, steps"
   ]
  },
  {
   "cell_type": "code",
   "execution_count": 28,
   "metadata": {},
   "outputs": [],
   "source": [
    "model.compile(\n",
    "    optimizer=\"adam\",\n",
    "    loss = \"binary_crossentropy\"\n",
    ")"
   ]
  },
  {
   "cell_type": "code",
   "execution_count": 29,
   "metadata": {},
   "outputs": [],
   "source": [
    "train_batch_size = 256\n",
    "eval_batch_size = 32"
   ]
  },
  {
   "cell_type": "code",
   "execution_count": 30,
   "metadata": {},
   "outputs": [
    {
     "name": "stdout",
     "output_type": "stream",
     "text": [
      "********************\n",
      "Launch training for day 1 are:\n",
      "********************\n",
      "\n",
      "Epoch 1/3\n",
      "437/437 [==============================] - 20s 39ms/step - target/binary_classification_task/precision: 0.4972 - target/binary_classification_task/recall: 0.4912 - target/binary_classification_task/binary_accuracy: 0.4969 - target/binary_classification_task/auc: 0.4950 - loss: 0.6932 - regularization_loss: 0.0000e+00 - total_loss: 0.6932\n",
      "Epoch 2/3\n",
      "437/437 [==============================] - 17s 38ms/step - target/binary_classification_task/precision: 0.4945 - target/binary_classification_task/recall: 0.3780 - target/binary_classification_task/binary_accuracy: 0.4989 - target/binary_classification_task/auc: 0.4970 - loss: 0.6932 - regularization_loss: 0.0000e+00 - total_loss: 0.6932\n",
      "Epoch 3/3\n",
      "437/437 [==============================] - 17s 38ms/step - target/binary_classification_task/precision: 0.5106 - target/binary_classification_task/recall: 0.6212 - target/binary_classification_task/binary_accuracy: 0.5071 - target/binary_classification_task/auc: 0.5047 - loss: 0.6931 - regularization_loss: 0.0000e+00 - total_loss: 0.6931\n",
      "********************\n",
      "Launch evaluation for day 1 are:\n",
      "********************\n",
      "\n",
      "264/264 [==============================] - 1s 2ms/step - target/binary_classification_task/precision: 0.5021 - target/binary_classification_task/recall: 1.0000 - target/binary_classification_task/binary_accuracy: 0.5023 - target/binary_classification_task/auc: 0.5000 - loss: 0.6934 - regularization_loss: 0.0000e+00 - total_loss: 0.6934\n",
      "********************\n",
      "Launch training for day 2 are:\n",
      "********************\n",
      "\n",
      "Epoch 1/3\n",
      "413/413 [==============================] - 16s 38ms/step - target/binary_classification_task/precision: 0.4967 - target/binary_classification_task/recall: 0.8057 - target/binary_classification_task/binary_accuracy: 0.4961 - target/binary_classification_task/auc: 0.4960 - loss: 0.6933 - regularization_loss: 0.0000e+00 - total_loss: 0.6933\n",
      "Epoch 2/3\n",
      "413/413 [==============================] - 16s 38ms/step - target/binary_classification_task/precision: 0.5074 - target/binary_classification_task/recall: 0.4334 - target/binary_classification_task/binary_accuracy: 0.5017 - target/binary_classification_task/auc: 0.5015 - loss: 0.6932 - regularization_loss: 0.0000e+00 - total_loss: 0.6932\n",
      "Epoch 3/3\n",
      "413/413 [==============================] - 15s 37ms/step - target/binary_classification_task/precision: 0.5010 - target/binary_classification_task/recall: 0.9379 - target/binary_classification_task/binary_accuracy: 0.5000 - target/binary_classification_task/auc: 0.4929 - loss: 0.6932 - regularization_loss: 0.0000e+00 - total_loss: 0.6932\n",
      "********************\n",
      "Launch evaluation for day 2 are:\n",
      "********************\n",
      "\n",
      "243/243 [==============================] - 0s 2ms/step - target/binary_classification_task/precision: 0.4921 - target/binary_classification_task/recall: 1.0000 - target/binary_classification_task/binary_accuracy: 0.4923 - target/binary_classification_task/auc: 0.5000 - loss: 0.6932 - regularization_loss: 0.0000e+00 - total_loss: 0.6932\n",
      "********************\n",
      "Launch training for day 3 are:\n",
      "********************\n",
      "\n",
      "Epoch 1/3\n",
      "381/381 [==============================] - 14s 37ms/step - target/binary_classification_task/precision: 0.4999 - target/binary_classification_task/recall: 0.9240 - target/binary_classification_task/binary_accuracy: 0.4986 - target/binary_classification_task/auc: 0.4969 - loss: 0.6932 - regularization_loss: 0.0000e+00 - total_loss: 0.6932\n",
      "Epoch 2/3\n",
      "381/381 [==============================] - 14s 37ms/step - target/binary_classification_task/precision: 0.5035 - target/binary_classification_task/recall: 1.0000 - target/binary_classification_task/binary_accuracy: 0.5035 - target/binary_classification_task/auc: 0.4996 - loss: 0.6931 - regularization_loss: 0.0000e+00 - total_loss: 0.6931\n",
      "Epoch 3/3\n",
      "381/381 [==============================] - 15s 39ms/step - target/binary_classification_task/precision: 0.4971 - target/binary_classification_task/recall: 0.6399 - target/binary_classification_task/binary_accuracy: 0.4967 - target/binary_classification_task/auc: 0.4984 - loss: 0.6932 - regularization_loss: 0.0000e+00 - total_loss: 0.6932\n",
      "********************\n",
      "Launch evaluation for day 3 are:\n",
      "********************\n",
      "\n",
      "310/310 [==============================] - 1s 2ms/step - target/binary_classification_task/precision: 0.0000e+00 - target/binary_classification_task/recall: 0.0000e+00 - target/binary_classification_task/binary_accuracy: 0.4935 - target/binary_classification_task/auc: 0.5000 - loss: 0.6932 - regularization_loss: 0.0000e+00 - total_loss: 0.6932\n",
      "CPU times: user 7min 39s, sys: 1min 20s, total: 9min\n",
      "Wall time: 3min 2s\n"
     ]
    }
   ],
   "source": [
    "%%time\n",
    "start_time_window_index = 1\n",
    "final_time_window_index = 4\n",
    "for time_index in range(start_time_window_index, final_time_window_index):\n",
    "    # Set data\n",
    "    time_index_train = time_index\n",
    "    time_index_eval = time_index + 1\n",
    "    train_paths = os.path.join(OUTPUT_DIR, f\"{time_index_train}/train.parquet\")\n",
    "    eval_paths = os.path.join(OUTPUT_DIR, f\"{time_index_eval}/valid.parquet\")\n",
    "    # Initialize dataloaders\n",
    "    train_df = pd.read_parquet(train_paths)\n",
    "    train_df = train_df[['product_id-list_seq']]\n",
    "    train_len = len(train_df)\n",
    "    eval_df = pd.read_parquet(eval_paths)\n",
    "    eval_df = eval_df[['product_id-list_seq']]\n",
    "    eval_len = len(eval_df)\n",
    "    train_dataset, train_steps = get_dataset(train_df, train_batch_size,train_len)\n",
    "    eval_dataset, eval_steps = get_dataset(eval_df, eval_batch_size,eval_len)\n",
    "    # Train on day related to time_index \n",
    "    print('*'*20)\n",
    "    print(\"Launch training for day %s are:\" %time_index)\n",
    "    print('*'*20 + '\\n')\n",
    "    \n",
    "    n_epochs = 3\n",
    "    history = model.fit(\n",
    "        train_dataset.repeat(n_epochs),\n",
    "        steps_per_epoch=train_steps,\n",
    "        epochs=n_epochs,\n",
    "        initial_epoch=0,\n",
    "        verbose=1,\n",
    "    )\n",
    "    print('*'*20)\n",
    "    print(\"Launch evaluation for day %s are:\" %time_index)\n",
    "    print('*'*20 + '\\n')\n",
    "    results = model.evaluate(eval_dataset, batch_size=eval_batch_size)"
   ]
  },
  {
   "cell_type": "code",
   "execution_count": null,
   "metadata": {},
   "outputs": [],
   "source": []
  }
 ],
 "metadata": {
  "interpreter": {
   "hash": "949777d72b0d2535278d3dc13498b2535136f6dfe0678499012e853ee9abcab1"
  },
  "kernelspec": {
   "display_name": "Python 3.9.7 64-bit",
   "language": "python",
   "name": "python3"
  },
  "language_info": {
   "codemirror_mode": {
    "name": "ipython",
    "version": 3
   },
   "file_extension": ".py",
   "mimetype": "text/x-python",
   "name": "python",
   "nbconvert_exporter": "python",
   "pygments_lexer": "ipython3",
   "version": "3.9.7"
  },
  "orig_nbformat": 4
 },
 "nbformat": 4,
 "nbformat_minor": 2
}
