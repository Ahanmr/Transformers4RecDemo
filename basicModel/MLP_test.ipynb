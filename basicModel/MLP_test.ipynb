{
 "cells": [
  {
   "cell_type": "code",
   "execution_count": 1,
   "metadata": {},
   "outputs": [],
   "source": [
    "import os\n",
    "import glob\n",
    "import pandas as pd\n",
    "import numpy as np\n",
    "\n",
    "from transformers4rec import tf as tr\n",
    "import tensorflow as tf\n",
    "from transformers4rec.tf.ranking_metric import NDCGAt, RecallAt"
   ]
  },
  {
   "cell_type": "code",
   "execution_count": 2,
   "metadata": {},
   "outputs": [],
   "source": [
    "INPUT_DATA_DIR = os.environ.get(\"INPUT_DATA_DIR\", '../data/')"
   ]
  },
  {
   "cell_type": "code",
   "execution_count": 5,
   "metadata": {},
   "outputs": [],
   "source": [
    "from merlin_standard_lib import Schema\n",
    "# define schema object to pass it to the TabularSeqeunceFeatures class\n",
    "SCHEMA_PATH = os.path.join(INPUT_DATA_DIR, 'schema_test.pb')\n",
    "schema = Schema().from_proto_text(SCHEMA_PATH)"
   ]
  },
  {
   "cell_type": "code",
   "execution_count": 6,
   "metadata": {},
   "outputs": [],
   "source": [
    "sequence_length = 20\n",
    "inputs = tr.TabularSequenceFeatures.from_schema(\n",
    "schema,\n",
    "max_sequence_length = sequence_length,\n",
    "aggregation = 'concat',\n",
    ")"
   ]
  },
  {
   "cell_type": "code",
   "execution_count": 7,
   "metadata": {},
   "outputs": [],
   "source": [
    "def tf_yoochoose_like():\n",
    "    return tr.data.tabular_sequence_testing_data.tf_synthetic_data(\n",
    "    num_rows=100, min_session_length=5, max_session_length=20\n",
    "    )"
   ]
  },
  {
   "cell_type": "code",
   "execution_count": 8,
   "metadata": {},
   "outputs": [
    {
     "name": "stderr",
     "output_type": "stream",
     "text": [
      "2021-12-03 13:04:08.529344: I tensorflow/core/platform/cpu_feature_guard.cc:151] This TensorFlow binary is optimized with oneAPI Deep Neural Network Library (oneDNN) to use the following CPU instructions in performance-critical operations:  AVX2 AVX512F FMA\n",
      "To enable them in other operations, rebuild TensorFlow with the appropriate compiler flags.\n"
     ]
    },
    {
     "name": "stdout",
     "output_type": "stream",
     "text": [
      "Epoch 1/5\n",
      "2/2 [==============================] - 3s 22ms/step - target/binary_classification_task/precision: 0.4889 - target/binary_classification_task/recall: 0.4400 - target/binary_classification_task/binary_accuracy: 0.4900 - target/binary_classification_task/auc: 0.4854 - loss: 0.6944 - regularization_loss: 0.0000e+00 - total_loss: 0.6944\n",
      "Epoch 2/5\n",
      "2/2 [==============================] - 0s 22ms/step - target/binary_classification_task/precision: 0.5714 - target/binary_classification_task/recall: 0.3200 - target/binary_classification_task/binary_accuracy: 0.5400 - target/binary_classification_task/auc: 0.6220 - loss: 0.6848 - regularization_loss: 0.0000e+00 - total_loss: 0.6848\n",
      "Epoch 3/5\n",
      "2/2 [==============================] - 0s 20ms/step - target/binary_classification_task/precision: 0.7308 - target/binary_classification_task/recall: 0.3800 - target/binary_classification_task/binary_accuracy: 0.6200 - target/binary_classification_task/auc: 0.7028 - loss: 0.6771 - regularization_loss: 0.0000e+00 - total_loss: 0.6771\n",
      "Epoch 4/5\n",
      "2/2 [==============================] - 0s 24ms/step - target/binary_classification_task/precision: 0.7812 - target/binary_classification_task/recall: 0.5000 - target/binary_classification_task/binary_accuracy: 0.6800 - target/binary_classification_task/auc: 0.7594 - loss: 0.6702 - regularization_loss: 0.0000e+00 - total_loss: 0.6702\n",
      "Epoch 5/5\n",
      "2/2 [==============================] - 0s 25ms/step - target/binary_classification_task/precision: 0.8750 - target/binary_classification_task/recall: 0.5600 - target/binary_classification_task/binary_accuracy: 0.7400 - target/binary_classification_task/auc: 0.8040 - loss: 0.6634 - regularization_loss: 0.0000e+00 - total_loss: 0.6634\n"
     ]
    }
   ],
   "source": [
    "data = tf_yoochoose_like()\n",
    "body = tr.SequentialBlock([inputs, tr.MLPBlock([64])])\n",
    "targets = {\"target\": tf.cast(tf.random.uniform((100,), maxval=2, dtype=tf.int32), tf.float32)}\n",
    "model = tr.BinaryClassificationTask(\"target\").to_model(body, inputs)\n",
    "model.compile(optimizer=\"adam\", run_eagerly=False)\n",
    "dataset = tf.data.Dataset.from_tensor_slices((data, targets)).batch(50)\n",
    "losses = model.fit(dataset, epochs=5)"
   ]
  },
  {
   "cell_type": "code",
   "execution_count": null,
   "metadata": {},
   "outputs": [],
   "source": []
  }
 ],
 "metadata": {
  "interpreter": {
   "hash": "949777d72b0d2535278d3dc13498b2535136f6dfe0678499012e853ee9abcab1"
  },
  "kernelspec": {
   "display_name": "Python 3.9.7 64-bit",
   "language": "python",
   "name": "python3"
  },
  "language_info": {
   "codemirror_mode": {
    "name": "ipython",
    "version": 3
   },
   "file_extension": ".py",
   "mimetype": "text/x-python",
   "name": "python",
   "nbconvert_exporter": "python",
   "pygments_lexer": "ipython3",
   "version": "3.9.7"
  },
  "orig_nbformat": 4
 },
 "nbformat": 4,
 "nbformat_minor": 2
}
