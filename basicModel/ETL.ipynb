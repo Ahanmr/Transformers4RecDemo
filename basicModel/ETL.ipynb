{
 "cells": [
  {
   "cell_type": "markdown",
   "metadata": {},
   "source": [
    "# Session-based Recs with Transformers4Rec: ETL\n",
    "\n",
    "Followed a step by step tutorial:\n",
    "https://nvidia-merlin.github.io/Transformers4Rec/main/examples/tutorial/index.html"
   ]
  },
  {
   "cell_type": "markdown",
   "metadata": {},
   "source": [
    "## Imports"
   ]
  },
  {
   "cell_type": "code",
   "execution_count": 2,
   "metadata": {},
   "outputs": [],
   "source": [
    "import os\n",
    "import numpy as np\n",
    "import pandas as pd\n",
    "import glob"
   ]
  },
  {
   "cell_type": "markdown",
   "metadata": {},
   "source": [
    "## Read E-Commerce Data\n",
    "preprocessing already carried out:\\\n",
    "- `event_time` $\\rightarrow$ `event_time_ts` = time when the event happened (UTC)\n",
    "- `prod_first_event_time_ts` = indicates the timestamp that an item was seen first time\n",
    "- removed rows where the `user_session` is Null. 2 rows removed.\n",
    "- label encoded `user_session` $\\rightarrow$ integers\n",
    "- removed consequetively repeated (user,item) interactions"
   ]
  },
  {
   "cell_type": "code",
   "execution_count": 6,
   "metadata": {},
   "outputs": [],
   "source": [
    "# define where the data is kept\n",
    "INPUT_DATA_DIR = os.environ.get(\"INPUT_DATA_DIR\", '../data/')\n",
    "df = pd.read_csv(os.path.join(INPUT_DATA_DIR, '2019-Oct-Processed.csv'), index_col=0)"
   ]
  },
  {
   "cell_type": "code",
   "execution_count": 7,
   "metadata": {},
   "outputs": [
    {
     "data": {
      "text/html": [
       "<div>\n",
       "<style scoped>\n",
       "    .dataframe tbody tr th:only-of-type {\n",
       "        vertical-align: middle;\n",
       "    }\n",
       "\n",
       "    .dataframe tbody tr th {\n",
       "        vertical-align: top;\n",
       "    }\n",
       "\n",
       "    .dataframe thead th {\n",
       "        text-align: right;\n",
       "    }\n",
       "</style>\n",
       "<table border=\"1\" class=\"dataframe\">\n",
       "  <thead>\n",
       "    <tr style=\"text-align: right;\">\n",
       "      <th></th>\n",
       "      <th>event_type</th>\n",
       "      <th>product_id</th>\n",
       "      <th>category_id</th>\n",
       "      <th>category_code</th>\n",
       "      <th>brand</th>\n",
       "      <th>price</th>\n",
       "      <th>user_id</th>\n",
       "      <th>event_time_ts</th>\n",
       "      <th>user_session</th>\n",
       "      <th>prod_first_event_time_ts</th>\n",
       "    </tr>\n",
       "  </thead>\n",
       "  <tbody>\n",
       "    <tr>\n",
       "      <th>0</th>\n",
       "      <td>view</td>\n",
       "      <td>1004768</td>\n",
       "      <td>2053013555631882655</td>\n",
       "      <td>electronics.smartphone</td>\n",
       "      <td>samsung</td>\n",
       "      <td>251.47</td>\n",
       "      <td>546521725</td>\n",
       "      <td>1570361085000000000</td>\n",
       "      <td>2</td>\n",
       "      <td>1569890856000000000</td>\n",
       "    </tr>\n",
       "    <tr>\n",
       "      <th>1</th>\n",
       "      <td>view</td>\n",
       "      <td>1005098</td>\n",
       "      <td>2053013555631882655</td>\n",
       "      <td>electronics.smartphone</td>\n",
       "      <td>samsung</td>\n",
       "      <td>152.58</td>\n",
       "      <td>546521725</td>\n",
       "      <td>1570361154000000000</td>\n",
       "      <td>2</td>\n",
       "      <td>1569896681000000000</td>\n",
       "    </tr>\n",
       "    <tr>\n",
       "      <th>2</th>\n",
       "      <td>view</td>\n",
       "      <td>1005073</td>\n",
       "      <td>2053013555631882655</td>\n",
       "      <td>electronics.smartphone</td>\n",
       "      <td>samsung</td>\n",
       "      <td>1153.03</td>\n",
       "      <td>546521725</td>\n",
       "      <td>1570361159000000000</td>\n",
       "      <td>2</td>\n",
       "      <td>1569888057000000000</td>\n",
       "    </tr>\n",
       "    <tr>\n",
       "      <th>3</th>\n",
       "      <td>view</td>\n",
       "      <td>1004871</td>\n",
       "      <td>2053013555631882655</td>\n",
       "      <td>electronics.smartphone</td>\n",
       "      <td>samsung</td>\n",
       "      <td>286.60</td>\n",
       "      <td>546521725</td>\n",
       "      <td>1570361199000000000</td>\n",
       "      <td>2</td>\n",
       "      <td>1569896322000000000</td>\n",
       "    </tr>\n",
       "    <tr>\n",
       "      <th>4</th>\n",
       "      <td>view</td>\n",
       "      <td>1004751</td>\n",
       "      <td>2053013555631882655</td>\n",
       "      <td>electronics.smartphone</td>\n",
       "      <td>samsung</td>\n",
       "      <td>197.15</td>\n",
       "      <td>546521725</td>\n",
       "      <td>1570361213000000000</td>\n",
       "      <td>2</td>\n",
       "      <td>1569896971000000000</td>\n",
       "    </tr>\n",
       "  </tbody>\n",
       "</table>\n",
       "</div>"
      ],
      "text/plain": [
       "  event_type  product_id          category_id           category_code  \\\n",
       "0       view     1004768  2053013555631882655  electronics.smartphone   \n",
       "1       view     1005098  2053013555631882655  electronics.smartphone   \n",
       "2       view     1005073  2053013555631882655  electronics.smartphone   \n",
       "3       view     1004871  2053013555631882655  electronics.smartphone   \n",
       "4       view     1004751  2053013555631882655  electronics.smartphone   \n",
       "\n",
       "     brand    price    user_id        event_time_ts  user_session  \\\n",
       "0  samsung   251.47  546521725  1570361085000000000             2   \n",
       "1  samsung   152.58  546521725  1570361154000000000             2   \n",
       "2  samsung  1153.03  546521725  1570361159000000000             2   \n",
       "3  samsung   286.60  546521725  1570361199000000000             2   \n",
       "4  samsung   197.15  546521725  1570361213000000000             2   \n",
       "\n",
       "   prod_first_event_time_ts  \n",
       "0       1569890856000000000  \n",
       "1       1569896681000000000  \n",
       "2       1569888057000000000  \n",
       "3       1569896322000000000  \n",
       "4       1569896971000000000  "
      ]
     },
     "execution_count": 7,
     "metadata": {},
     "output_type": "execute_result"
    }
   ],
   "source": [
    "df.head()"
   ]
  },
  {
   "cell_type": "code",
   "execution_count": 8,
   "metadata": {},
   "outputs": [
    {
     "data": {
      "text/plain": [
       "(6390928, 10)"
      ]
     },
     "execution_count": 8,
     "metadata": {},
     "output_type": "execute_result"
    }
   ],
   "source": [
    "df.shape"
   ]
  },
  {
   "cell_type": "code",
   "execution_count": 9,
   "metadata": {},
   "outputs": [
    {
     "data": {
      "text/plain": [
       "event_type                  False\n",
       "product_id                  False\n",
       "category_id                 False\n",
       "category_code                True\n",
       "brand                        True\n",
       "price                       False\n",
       "user_id                     False\n",
       "event_time_ts               False\n",
       "user_session                False\n",
       "prod_first_event_time_ts    False\n",
       "dtype: bool"
      ]
     },
     "execution_count": 9,
     "metadata": {},
     "output_type": "execute_result"
    }
   ],
   "source": [
    "df.isnull().any()"
   ]
  },
  {
   "cell_type": "markdown",
   "metadata": {},
   "source": [
    "## Categorical Feature Encoding\n",
    "- label encode all categorical features\n",
    "- add one to all category encodings as `0` is reserved for padding"
   ]
  },
  {
   "cell_type": "code",
   "execution_count": 23,
   "metadata": {},
   "outputs": [],
   "source": [
    "cat_feats = ['user_session', 'category_code', 'brand', 'user_id', 'product_id', 'category_id', 'event_type']"
   ]
  },
  {
   "cell_type": "code",
   "execution_count": 24,
   "metadata": {},
   "outputs": [],
   "source": [
    "for cat in cat_feats:\n",
    "    df[cat] = df[cat].astype('category')\n",
    "    df[cat] = df[cat].cat.codes\n",
    "    df[cat] = df[cat]+1"
   ]
  },
  {
   "cell_type": "code",
   "execution_count": 25,
   "metadata": {},
   "outputs": [
    {
     "data": {
      "text/html": [
       "<div>\n",
       "<style scoped>\n",
       "    .dataframe tbody tr th:only-of-type {\n",
       "        vertical-align: middle;\n",
       "    }\n",
       "\n",
       "    .dataframe tbody tr th {\n",
       "        vertical-align: top;\n",
       "    }\n",
       "\n",
       "    .dataframe thead th {\n",
       "        text-align: right;\n",
       "    }\n",
       "</style>\n",
       "<table border=\"1\" class=\"dataframe\">\n",
       "  <thead>\n",
       "    <tr style=\"text-align: right;\">\n",
       "      <th></th>\n",
       "      <th>event_type</th>\n",
       "      <th>product_id</th>\n",
       "      <th>category_id</th>\n",
       "      <th>category_code</th>\n",
       "      <th>brand</th>\n",
       "      <th>price</th>\n",
       "      <th>user_id</th>\n",
       "      <th>event_time_ts</th>\n",
       "      <th>user_session</th>\n",
       "      <th>prod_first_event_time_ts</th>\n",
       "    </tr>\n",
       "  </thead>\n",
       "  <tbody>\n",
       "    <tr>\n",
       "      <th>0</th>\n",
       "      <td>3</td>\n",
       "      <td>790</td>\n",
       "      <td>85</td>\n",
       "      <td>95</td>\n",
       "      <td>2076</td>\n",
       "      <td>251.47</td>\n",
       "      <td>598877</td>\n",
       "      <td>1570361085000000000</td>\n",
       "      <td>1</td>\n",
       "      <td>1569890856000000000</td>\n",
       "    </tr>\n",
       "    <tr>\n",
       "      <th>1</th>\n",
       "      <td>3</td>\n",
       "      <td>1046</td>\n",
       "      <td>85</td>\n",
       "      <td>95</td>\n",
       "      <td>2076</td>\n",
       "      <td>152.58</td>\n",
       "      <td>598877</td>\n",
       "      <td>1570361154000000000</td>\n",
       "      <td>1</td>\n",
       "      <td>1569896681000000000</td>\n",
       "    </tr>\n",
       "    <tr>\n",
       "      <th>2</th>\n",
       "      <td>3</td>\n",
       "      <td>1022</td>\n",
       "      <td>85</td>\n",
       "      <td>95</td>\n",
       "      <td>2076</td>\n",
       "      <td>1153.03</td>\n",
       "      <td>598877</td>\n",
       "      <td>1570361159000000000</td>\n",
       "      <td>1</td>\n",
       "      <td>1569888057000000000</td>\n",
       "    </tr>\n",
       "    <tr>\n",
       "      <th>3</th>\n",
       "      <td>3</td>\n",
       "      <td>875</td>\n",
       "      <td>85</td>\n",
       "      <td>95</td>\n",
       "      <td>2076</td>\n",
       "      <td>286.60</td>\n",
       "      <td>598877</td>\n",
       "      <td>1570361199000000000</td>\n",
       "      <td>1</td>\n",
       "      <td>1569896322000000000</td>\n",
       "    </tr>\n",
       "    <tr>\n",
       "      <th>4</th>\n",
       "      <td>3</td>\n",
       "      <td>780</td>\n",
       "      <td>85</td>\n",
       "      <td>95</td>\n",
       "      <td>2076</td>\n",
       "      <td>197.15</td>\n",
       "      <td>598877</td>\n",
       "      <td>1570361213000000000</td>\n",
       "      <td>1</td>\n",
       "      <td>1569896971000000000</td>\n",
       "    </tr>\n",
       "  </tbody>\n",
       "</table>\n",
       "</div>"
      ],
      "text/plain": [
       "   event_type  product_id  category_id  category_code  brand    price  \\\n",
       "0           3         790           85             95   2076   251.47   \n",
       "1           3        1046           85             95   2076   152.58   \n",
       "2           3        1022           85             95   2076  1153.03   \n",
       "3           3         875           85             95   2076   286.60   \n",
       "4           3         780           85             95   2076   197.15   \n",
       "\n",
       "   user_id        event_time_ts  user_session  prod_first_event_time_ts  \n",
       "0   598877  1570361085000000000             1       1569890856000000000  \n",
       "1   598877  1570361154000000000             1       1569896681000000000  \n",
       "2   598877  1570361159000000000             1       1569888057000000000  \n",
       "3   598877  1570361199000000000             1       1569896322000000000  \n",
       "4   598877  1570361213000000000             1       1569896971000000000  "
      ]
     },
     "execution_count": 25,
     "metadata": {},
     "output_type": "execute_result"
    }
   ],
   "source": [
    "df.head()"
   ]
  },
  {
   "cell_type": "code",
   "execution_count": null,
   "metadata": {},
   "outputs": [],
   "source": []
  }
 ],
 "metadata": {
  "interpreter": {
   "hash": "949777d72b0d2535278d3dc13498b2535136f6dfe0678499012e853ee9abcab1"
  },
  "kernelspec": {
   "display_name": "Python 3.9.7 64-bit",
   "language": "python",
   "name": "python3"
  },
  "language_info": {
   "codemirror_mode": {
    "name": "ipython",
    "version": 3
   },
   "file_extension": ".py",
   "mimetype": "text/x-python",
   "name": "python",
   "nbconvert_exporter": "python",
   "pygments_lexer": "ipython3",
   "version": "3.9.7"
  },
  "orig_nbformat": 4
 },
 "nbformat": 4,
 "nbformat_minor": 2
}
