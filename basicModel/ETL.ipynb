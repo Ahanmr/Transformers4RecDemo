{
 "cells": [
  {
   "cell_type": "markdown",
   "metadata": {},
   "source": [
    "# Session-based Recs with Transformers4Rec: ETL\n",
    "\n",
    "Followed a step by step tutorial:\n",
    "https://nvidia-merlin.github.io/Transformers4Rec/main/examples/tutorial/index.html"
   ]
  },
  {
   "cell_type": "markdown",
   "metadata": {},
   "source": [
    "## Imports"
   ]
  },
  {
   "cell_type": "code",
   "execution_count": 28,
   "metadata": {},
   "outputs": [],
   "source": [
    "import os\n",
    "import numpy as np\n",
    "import pandas as pd\n",
    "import glob"
   ]
  },
  {
   "cell_type": "markdown",
   "metadata": {},
   "source": [
    "## Read E-Commerce Data\n",
    "preprocessing already carried out:\\\n",
    "- `event_time` $\\rightarrow$ `event_time_ts` = time when the event happened (UTC)\n",
    "- `prod_first_event_time_ts` = indicates the timestamp that an item was seen first time\n",
    "- removed rows where the `user_session` is Null. 2 rows removed.\n",
    "- label encoded `user_session` $\\rightarrow$ integers\n",
    "- removed consequetively repeated (user,item) interactions"
   ]
  },
  {
   "cell_type": "code",
   "execution_count": 29,
   "metadata": {},
   "outputs": [],
   "source": [
    "# define where the data is kept\n",
    "INPUT_DATA_DIR = os.environ.get(\"INPUT_DATA_DIR\", '../data/')\n",
    "df = pd.read_csv(os.path.join(INPUT_DATA_DIR, '2019-Oct-Processed.csv'), index_col=0)"
   ]
  },
  {
   "cell_type": "code",
   "execution_count": 30,
   "metadata": {},
   "outputs": [
    {
     "data": {
      "text/html": [
       "<div>\n",
       "<style scoped>\n",
       "    .dataframe tbody tr th:only-of-type {\n",
       "        vertical-align: middle;\n",
       "    }\n",
       "\n",
       "    .dataframe tbody tr th {\n",
       "        vertical-align: top;\n",
       "    }\n",
       "\n",
       "    .dataframe thead th {\n",
       "        text-align: right;\n",
       "    }\n",
       "</style>\n",
       "<table border=\"1\" class=\"dataframe\">\n",
       "  <thead>\n",
       "    <tr style=\"text-align: right;\">\n",
       "      <th></th>\n",
       "      <th>event_type</th>\n",
       "      <th>product_id</th>\n",
       "      <th>category_id</th>\n",
       "      <th>category_code</th>\n",
       "      <th>brand</th>\n",
       "      <th>price</th>\n",
       "      <th>user_id</th>\n",
       "      <th>event_time_ts</th>\n",
       "      <th>user_session</th>\n",
       "      <th>prod_first_event_time_ts</th>\n",
       "    </tr>\n",
       "  </thead>\n",
       "  <tbody>\n",
       "    <tr>\n",
       "      <th>0</th>\n",
       "      <td>view</td>\n",
       "      <td>1004768</td>\n",
       "      <td>2053013555631882655</td>\n",
       "      <td>electronics.smartphone</td>\n",
       "      <td>samsung</td>\n",
       "      <td>251.47</td>\n",
       "      <td>546521725</td>\n",
       "      <td>1.570361e+09</td>\n",
       "      <td>2</td>\n",
       "      <td>1.569891e+09</td>\n",
       "    </tr>\n",
       "    <tr>\n",
       "      <th>1</th>\n",
       "      <td>view</td>\n",
       "      <td>1005098</td>\n",
       "      <td>2053013555631882655</td>\n",
       "      <td>electronics.smartphone</td>\n",
       "      <td>samsung</td>\n",
       "      <td>152.58</td>\n",
       "      <td>546521725</td>\n",
       "      <td>1.570361e+09</td>\n",
       "      <td>2</td>\n",
       "      <td>1.569897e+09</td>\n",
       "    </tr>\n",
       "    <tr>\n",
       "      <th>2</th>\n",
       "      <td>view</td>\n",
       "      <td>1005073</td>\n",
       "      <td>2053013555631882655</td>\n",
       "      <td>electronics.smartphone</td>\n",
       "      <td>samsung</td>\n",
       "      <td>1153.03</td>\n",
       "      <td>546521725</td>\n",
       "      <td>1.570361e+09</td>\n",
       "      <td>2</td>\n",
       "      <td>1.569888e+09</td>\n",
       "    </tr>\n",
       "    <tr>\n",
       "      <th>3</th>\n",
       "      <td>view</td>\n",
       "      <td>1004871</td>\n",
       "      <td>2053013555631882655</td>\n",
       "      <td>electronics.smartphone</td>\n",
       "      <td>samsung</td>\n",
       "      <td>286.60</td>\n",
       "      <td>546521725</td>\n",
       "      <td>1.570361e+09</td>\n",
       "      <td>2</td>\n",
       "      <td>1.569896e+09</td>\n",
       "    </tr>\n",
       "    <tr>\n",
       "      <th>4</th>\n",
       "      <td>view</td>\n",
       "      <td>1004751</td>\n",
       "      <td>2053013555631882655</td>\n",
       "      <td>electronics.smartphone</td>\n",
       "      <td>samsung</td>\n",
       "      <td>197.15</td>\n",
       "      <td>546521725</td>\n",
       "      <td>1.570361e+09</td>\n",
       "      <td>2</td>\n",
       "      <td>1.569897e+09</td>\n",
       "    </tr>\n",
       "  </tbody>\n",
       "</table>\n",
       "</div>"
      ],
      "text/plain": [
       "  event_type  product_id          category_id           category_code  \\\n",
       "0       view     1004768  2053013555631882655  electronics.smartphone   \n",
       "1       view     1005098  2053013555631882655  electronics.smartphone   \n",
       "2       view     1005073  2053013555631882655  electronics.smartphone   \n",
       "3       view     1004871  2053013555631882655  electronics.smartphone   \n",
       "4       view     1004751  2053013555631882655  electronics.smartphone   \n",
       "\n",
       "     brand    price    user_id  event_time_ts  user_session  \\\n",
       "0  samsung   251.47  546521725   1.570361e+09             2   \n",
       "1  samsung   152.58  546521725   1.570361e+09             2   \n",
       "2  samsung  1153.03  546521725   1.570361e+09             2   \n",
       "3  samsung   286.60  546521725   1.570361e+09             2   \n",
       "4  samsung   197.15  546521725   1.570361e+09             2   \n",
       "\n",
       "   prod_first_event_time_ts  \n",
       "0              1.569891e+09  \n",
       "1              1.569897e+09  \n",
       "2              1.569888e+09  \n",
       "3              1.569896e+09  \n",
       "4              1.569897e+09  "
      ]
     },
     "execution_count": 30,
     "metadata": {},
     "output_type": "execute_result"
    }
   ],
   "source": [
    "df.head()"
   ]
  },
  {
   "cell_type": "code",
   "execution_count": 31,
   "metadata": {},
   "outputs": [
    {
     "data": {
      "text/plain": [
       "(6390928, 10)"
      ]
     },
     "execution_count": 31,
     "metadata": {},
     "output_type": "execute_result"
    }
   ],
   "source": [
    "df.shape"
   ]
  },
  {
   "cell_type": "code",
   "execution_count": 32,
   "metadata": {},
   "outputs": [
    {
     "data": {
      "text/plain": [
       "event_type                  False\n",
       "product_id                  False\n",
       "category_id                 False\n",
       "category_code                True\n",
       "brand                        True\n",
       "price                       False\n",
       "user_id                     False\n",
       "event_time_ts               False\n",
       "user_session                False\n",
       "prod_first_event_time_ts    False\n",
       "dtype: bool"
      ]
     },
     "execution_count": 32,
     "metadata": {},
     "output_type": "execute_result"
    }
   ],
   "source": [
    "df.isnull().any()"
   ]
  },
  {
   "cell_type": "markdown",
   "metadata": {},
   "source": [
    "## Categorical Feature Encoding\n",
    "- label encode all categorical features\n",
    "- add one to all category encodings as `0` is reserved for padding"
   ]
  },
  {
   "cell_type": "code",
   "execution_count": 33,
   "metadata": {},
   "outputs": [],
   "source": [
    "cat_feats = ['user_session', 'category_code', 'brand', 'user_id', 'product_id', 'category_id', 'event_type']"
   ]
  },
  {
   "cell_type": "code",
   "execution_count": 34,
   "metadata": {},
   "outputs": [],
   "source": [
    "for cat in cat_feats:\n",
    "    df[cat] = df[cat].astype('category')\n",
    "    df[cat] = df[cat].cat.codes\n",
    "    df[cat] = df[cat]+1"
   ]
  },
  {
   "cell_type": "code",
   "execution_count": 35,
   "metadata": {},
   "outputs": [
    {
     "data": {
      "text/html": [
       "<div>\n",
       "<style scoped>\n",
       "    .dataframe tbody tr th:only-of-type {\n",
       "        vertical-align: middle;\n",
       "    }\n",
       "\n",
       "    .dataframe tbody tr th {\n",
       "        vertical-align: top;\n",
       "    }\n",
       "\n",
       "    .dataframe thead th {\n",
       "        text-align: right;\n",
       "    }\n",
       "</style>\n",
       "<table border=\"1\" class=\"dataframe\">\n",
       "  <thead>\n",
       "    <tr style=\"text-align: right;\">\n",
       "      <th></th>\n",
       "      <th>event_type</th>\n",
       "      <th>product_id</th>\n",
       "      <th>category_id</th>\n",
       "      <th>category_code</th>\n",
       "      <th>brand</th>\n",
       "      <th>price</th>\n",
       "      <th>user_id</th>\n",
       "      <th>event_time_ts</th>\n",
       "      <th>user_session</th>\n",
       "      <th>prod_first_event_time_ts</th>\n",
       "    </tr>\n",
       "  </thead>\n",
       "  <tbody>\n",
       "    <tr>\n",
       "      <th>0</th>\n",
       "      <td>3</td>\n",
       "      <td>790</td>\n",
       "      <td>85</td>\n",
       "      <td>95</td>\n",
       "      <td>2076</td>\n",
       "      <td>251.47</td>\n",
       "      <td>598877</td>\n",
       "      <td>1.570361e+09</td>\n",
       "      <td>1</td>\n",
       "      <td>1.569891e+09</td>\n",
       "    </tr>\n",
       "    <tr>\n",
       "      <th>1</th>\n",
       "      <td>3</td>\n",
       "      <td>1046</td>\n",
       "      <td>85</td>\n",
       "      <td>95</td>\n",
       "      <td>2076</td>\n",
       "      <td>152.58</td>\n",
       "      <td>598877</td>\n",
       "      <td>1.570361e+09</td>\n",
       "      <td>1</td>\n",
       "      <td>1.569897e+09</td>\n",
       "    </tr>\n",
       "    <tr>\n",
       "      <th>2</th>\n",
       "      <td>3</td>\n",
       "      <td>1022</td>\n",
       "      <td>85</td>\n",
       "      <td>95</td>\n",
       "      <td>2076</td>\n",
       "      <td>1153.03</td>\n",
       "      <td>598877</td>\n",
       "      <td>1.570361e+09</td>\n",
       "      <td>1</td>\n",
       "      <td>1.569888e+09</td>\n",
       "    </tr>\n",
       "    <tr>\n",
       "      <th>3</th>\n",
       "      <td>3</td>\n",
       "      <td>875</td>\n",
       "      <td>85</td>\n",
       "      <td>95</td>\n",
       "      <td>2076</td>\n",
       "      <td>286.60</td>\n",
       "      <td>598877</td>\n",
       "      <td>1.570361e+09</td>\n",
       "      <td>1</td>\n",
       "      <td>1.569896e+09</td>\n",
       "    </tr>\n",
       "    <tr>\n",
       "      <th>4</th>\n",
       "      <td>3</td>\n",
       "      <td>780</td>\n",
       "      <td>85</td>\n",
       "      <td>95</td>\n",
       "      <td>2076</td>\n",
       "      <td>197.15</td>\n",
       "      <td>598877</td>\n",
       "      <td>1.570361e+09</td>\n",
       "      <td>1</td>\n",
       "      <td>1.569897e+09</td>\n",
       "    </tr>\n",
       "  </tbody>\n",
       "</table>\n",
       "</div>"
      ],
      "text/plain": [
       "   event_type  product_id  category_id  category_code  brand    price  \\\n",
       "0           3         790           85             95   2076   251.47   \n",
       "1           3        1046           85             95   2076   152.58   \n",
       "2           3        1022           85             95   2076  1153.03   \n",
       "3           3         875           85             95   2076   286.60   \n",
       "4           3         780           85             95   2076   197.15   \n",
       "\n",
       "   user_id  event_time_ts  user_session  prod_first_event_time_ts  \n",
       "0   598877   1.570361e+09             1              1.569891e+09  \n",
       "1   598877   1.570361e+09             1              1.569897e+09  \n",
       "2   598877   1.570361e+09             1              1.569888e+09  \n",
       "3   598877   1.570361e+09             1              1.569896e+09  \n",
       "4   598877   1.570361e+09             1              1.569897e+09  "
      ]
     },
     "execution_count": 35,
     "metadata": {},
     "output_type": "execute_result"
    }
   ],
   "source": [
    "df.head()"
   ]
  },
  {
   "cell_type": "markdown",
   "metadata": {},
   "source": [
    "## Extract Temporal Features"
   ]
  },
  {
   "cell_type": "code",
   "execution_count": 36,
   "metadata": {},
   "outputs": [],
   "source": [
    "# convert to int\n",
    "df['event_time_ts'] = df['event_time_ts'].astype('int')\n",
    "df['prod_first_event_time_ts'] = df['prod_first_event_time_ts'].astype('int')"
   ]
  },
  {
   "cell_type": "code",
   "execution_count": 37,
   "metadata": {},
   "outputs": [],
   "source": [
    "# create time features\n",
    "\n",
    "df['session_time'] = pd.to_datetime(df.event_time_ts,unit='s').rename('event_time_dt')\n",
    "df['sessiontime_weekday'] = df.session_time.dt.weekday.rename('et_dayofweek')"
   ]
  },
  {
   "cell_type": "code",
   "execution_count": 38,
   "metadata": {},
   "outputs": [],
   "source": [
    "# create cycling features from the sessiontime_weekday column\n",
    "\n",
    "def get_cycled_feature_value_sin(col, max_value):\n",
    "    value_scaled = (col + 0.000001) / max_value\n",
    "    value_sin = np.sin(2*np.pi*value_scaled)\n",
    "    return value_sin\n",
    "\n",
    "def get_cycled_feature_value_cos(col, max_value):\n",
    "    value_scaled = (col + 0.000001) / max_value\n",
    "    value_cos = np.cos(2*np.pi*value_scaled)\n",
    "    return value_cos\n",
    "\n",
    "df['weekday_sin'] = get_cycled_feature_value_sin(df.sessiontime_weekday,7).rename('et_dayofweek_sin')\n",
    "df['weekday_cos'] = get_cycled_feature_value_cos(df.sessiontime_weekday,7).rename('et_datofweek_cos')"
   ]
  },
  {
   "cell_type": "code",
   "execution_count": 39,
   "metadata": {},
   "outputs": [
    {
     "data": {
      "text/plain": [
       "<AxesSubplot:>"
      ]
     },
     "execution_count": 39,
     "metadata": {},
     "output_type": "execute_result"
    },
    {
     "data": {
      "image/png": "[encoded data removed]",
      "text/plain": [
       "<Figure size 432x288 with 1 Axes>"
      ]
     },
     "metadata": {
      "needs_background": "light"
     },
     "output_type": "display_data"
    }
   ],
   "source": [
    "# demonstrate the effect of cycling weekday features\n",
    "d = {'weekday':[1,2,3,4,5,6,7]}\n",
    "test_df = pd.DataFrame(data=d)\n",
    "distribution = get_cycled_feature_value_sin(test_df,7)\n",
    "distribution.plot.line()"
   ]
  },
  {
   "cell_type": "markdown",
   "metadata": {},
   "source": [
    "### Add Product Recency Feature"
   ]
  },
  {
   "cell_type": "code",
   "execution_count": 40,
   "metadata": {},
   "outputs": [],
   "source": [
    "def transform(columns,df):\n",
    "    for column in columns:\n",
    "        item_first_timestep = df['prod_first_event_time_ts']\n",
    "        delta_days = (df[column] - item_first_timestep) / (60*60*24)\n",
    "        df[column + \"_age_days\"] = delta_days * (delta_days>=0)\n",
    "        return df[column + \"_age_days\"]"
   ]
  },
  {
   "cell_type": "code",
   "execution_count": 41,
   "metadata": {},
   "outputs": [],
   "source": [
    "recency_features = transform(['event_time_ts'],df)"
   ]
  },
  {
   "cell_type": "code",
   "execution_count": 42,
   "metadata": {},
   "outputs": [],
   "source": [
    "def normalize(data):\n",
    "    return (data-data.mean())/data.std()\n",
    "# add 1e-10 to values to offset from zero to avoid log(0) = -inf\n",
    "recency_features_norm = normalize(np.log(recency_features+1e-10))"
   ]
  },
  {
   "cell_type": "code",
   "execution_count": 43,
   "metadata": {},
   "outputs": [],
   "source": [
    "df['product_recency_days_log_norm'] = recency_features_norm"
   ]
  },
  {
   "cell_type": "markdown",
   "metadata": {},
   "source": [
    "### Normalize Continuous Features"
   ]
  },
  {
   "cell_type": "code",
   "execution_count": 44,
   "metadata": {},
   "outputs": [],
   "source": [
    "# Smoothing price long-tailed and applying standardization\n",
    "df['price'] = df['price']+1e-10\n",
    "df['price_log_norm'] = normalize(np.log(df['price']))"
   ]
  },
  {
   "cell_type": "code",
   "execution_count": 45,
   "metadata": {},
   "outputs": [],
   "source": [
    "# relative price to the average price for the category_id\n",
    "def relative_price_to_avg_categ(col,df):\n",
    "    epsilon = 1e-5\n",
    "    col = ((df['price'] - df[col]) / (df[col] + epsilon)) * (df[col] > 0).astype(int)\n",
    "    return col\n"
   ]
  },
  {
   "cell_type": "code",
   "execution_count": 46,
   "metadata": {},
   "outputs": [],
   "source": [
    "avg_category_id_pr = df.groupby(['category_id'])['price'].mean().to_frame().reset_index()"
   ]
  },
  {
   "cell_type": "code",
   "execution_count": 47,
   "metadata": {},
   "outputs": [],
   "source": [
    "df['avg_category_id_pr'] = df['category_id'].map(avg_category_id_pr.set_index('category_id')['price'])"
   ]
  },
  {
   "cell_type": "code",
   "execution_count": 48,
   "metadata": {},
   "outputs": [
    {
     "data": {
      "text/html": [
       "<div>\n",
       "<style scoped>\n",
       "    .dataframe tbody tr th:only-of-type {\n",
       "        vertical-align: middle;\n",
       "    }\n",
       "\n",
       "    .dataframe tbody tr th {\n",
       "        vertical-align: top;\n",
       "    }\n",
       "\n",
       "    .dataframe thead th {\n",
       "        text-align: right;\n",
       "    }\n",
       "</style>\n",
       "<table border=\"1\" class=\"dataframe\">\n",
       "  <thead>\n",
       "    <tr style=\"text-align: right;\">\n",
       "      <th></th>\n",
       "      <th>event_type</th>\n",
       "      <th>product_id</th>\n",
       "      <th>category_id</th>\n",
       "      <th>category_code</th>\n",
       "      <th>brand</th>\n",
       "      <th>price</th>\n",
       "      <th>user_id</th>\n",
       "      <th>event_time_ts</th>\n",
       "      <th>user_session</th>\n",
       "      <th>prod_first_event_time_ts</th>\n",
       "      <th>session_time</th>\n",
       "      <th>sessiontime_weekday</th>\n",
       "      <th>weekday_sin</th>\n",
       "      <th>weekday_cos</th>\n",
       "      <th>event_time_ts_age_days</th>\n",
       "      <th>product_recency_days_log_norm</th>\n",
       "      <th>price_log_norm</th>\n",
       "      <th>avg_category_id_pr</th>\n",
       "    </tr>\n",
       "  </thead>\n",
       "  <tbody>\n",
       "    <tr>\n",
       "      <th>0</th>\n",
       "      <td>3</td>\n",
       "      <td>790</td>\n",
       "      <td>85</td>\n",
       "      <td>95</td>\n",
       "      <td>2076</td>\n",
       "      <td>251.47</td>\n",
       "      <td>598877</td>\n",
       "      <td>1570361085</td>\n",
       "      <td>1</td>\n",
       "      <td>1569890856</td>\n",
       "      <td>2019-10-06 11:24:45</td>\n",
       "      <td>6</td>\n",
       "      <td>-0.781831</td>\n",
       "      <td>0.623491</td>\n",
       "      <td>5.442465</td>\n",
       "      <td>0.374468</td>\n",
       "      <td>0.330580</td>\n",
       "      <td>519.009767</td>\n",
       "    </tr>\n",
       "    <tr>\n",
       "      <th>1</th>\n",
       "      <td>3</td>\n",
       "      <td>1046</td>\n",
       "      <td>85</td>\n",
       "      <td>95</td>\n",
       "      <td>2076</td>\n",
       "      <td>152.58</td>\n",
       "      <td>598877</td>\n",
       "      <td>1570361154</td>\n",
       "      <td>1</td>\n",
       "      <td>1569896681</td>\n",
       "      <td>2019-10-06 11:25:54</td>\n",
       "      <td>6</td>\n",
       "      <td>-0.781831</td>\n",
       "      <td>0.623491</td>\n",
       "      <td>5.375845</td>\n",
       "      <td>0.370837</td>\n",
       "      <td>0.024237</td>\n",
       "      <td>519.009767</td>\n",
       "    </tr>\n",
       "    <tr>\n",
       "      <th>2</th>\n",
       "      <td>3</td>\n",
       "      <td>1022</td>\n",
       "      <td>85</td>\n",
       "      <td>95</td>\n",
       "      <td>2076</td>\n",
       "      <td>1153.03</td>\n",
       "      <td>598877</td>\n",
       "      <td>1570361159</td>\n",
       "      <td>1</td>\n",
       "      <td>1569888057</td>\n",
       "      <td>2019-10-06 11:25:59</td>\n",
       "      <td>6</td>\n",
       "      <td>-0.781831</td>\n",
       "      <td>0.623491</td>\n",
       "      <td>5.475718</td>\n",
       "      <td>0.376264</td>\n",
       "      <td>1.264276</td>\n",
       "      <td>519.009767</td>\n",
       "    </tr>\n",
       "    <tr>\n",
       "      <th>3</th>\n",
       "      <td>3</td>\n",
       "      <td>875</td>\n",
       "      <td>85</td>\n",
       "      <td>95</td>\n",
       "      <td>2076</td>\n",
       "      <td>286.60</td>\n",
       "      <td>598877</td>\n",
       "      <td>1570361199</td>\n",
       "      <td>1</td>\n",
       "      <td>1569896322</td>\n",
       "      <td>2019-10-06 11:26:39</td>\n",
       "      <td>6</td>\n",
       "      <td>-0.781831</td>\n",
       "      <td>0.623491</td>\n",
       "      <td>5.380521</td>\n",
       "      <td>0.371093</td>\n",
       "      <td>0.410756</td>\n",
       "      <td>519.009767</td>\n",
       "    </tr>\n",
       "    <tr>\n",
       "      <th>4</th>\n",
       "      <td>3</td>\n",
       "      <td>780</td>\n",
       "      <td>85</td>\n",
       "      <td>95</td>\n",
       "      <td>2076</td>\n",
       "      <td>197.15</td>\n",
       "      <td>598877</td>\n",
       "      <td>1570361213</td>\n",
       "      <td>1</td>\n",
       "      <td>1569896971</td>\n",
       "      <td>2019-10-06 11:26:53</td>\n",
       "      <td>6</td>\n",
       "      <td>-0.781831</td>\n",
       "      <td>0.623491</td>\n",
       "      <td>5.373171</td>\n",
       "      <td>0.370690</td>\n",
       "      <td>0.181369</td>\n",
       "      <td>519.009767</td>\n",
       "    </tr>\n",
       "  </tbody>\n",
       "</table>\n",
       "</div>"
      ],
      "text/plain": [
       "   event_type  product_id  category_id  category_code  brand    price  \\\n",
       "0           3         790           85             95   2076   251.47   \n",
       "1           3        1046           85             95   2076   152.58   \n",
       "2           3        1022           85             95   2076  1153.03   \n",
       "3           3         875           85             95   2076   286.60   \n",
       "4           3         780           85             95   2076   197.15   \n",
       "\n",
       "   user_id  event_time_ts  user_session  prod_first_event_time_ts  \\\n",
       "0   598877     1570361085             1                1569890856   \n",
       "1   598877     1570361154             1                1569896681   \n",
       "2   598877     1570361159             1                1569888057   \n",
       "3   598877     1570361199             1                1569896322   \n",
       "4   598877     1570361213             1                1569896971   \n",
       "\n",
       "         session_time  sessiontime_weekday  weekday_sin  weekday_cos  \\\n",
       "0 2019-10-06 11:24:45                    6    -0.781831     0.623491   \n",
       "1 2019-10-06 11:25:54                    6    -0.781831     0.623491   \n",
       "2 2019-10-06 11:25:59                    6    -0.781831     0.623491   \n",
       "3 2019-10-06 11:26:39                    6    -0.781831     0.623491   \n",
       "4 2019-10-06 11:26:53                    6    -0.781831     0.623491   \n",
       "\n",
       "   event_time_ts_age_days  product_recency_days_log_norm  price_log_norm  \\\n",
       "0                5.442465                       0.374468        0.330580   \n",
       "1                5.375845                       0.370837        0.024237   \n",
       "2                5.475718                       0.376264        1.264276   \n",
       "3                5.380521                       0.371093        0.410756   \n",
       "4                5.373171                       0.370690        0.181369   \n",
       "\n",
       "   avg_category_id_pr  \n",
       "0          519.009767  \n",
       "1          519.009767  \n",
       "2          519.009767  \n",
       "3          519.009767  \n",
       "4          519.009767  "
      ]
     },
     "execution_count": 48,
     "metadata": {},
     "output_type": "execute_result"
    }
   ],
   "source": [
    "df.head()"
   ]
  },
  {
   "cell_type": "code",
   "execution_count": 49,
   "metadata": {},
   "outputs": [],
   "source": [
    "df['relative_price_to_avg_categ'] = ((df['price']-df['avg_category_id_pr'])/df['avg_category_id_pr'])*((df['avg_category_id_pr']>0).astype(int))"
   ]
  },
  {
   "cell_type": "markdown",
   "metadata": {},
   "source": [
    "### Grouping Interactions"
   ]
  },
  {
   "cell_type": "markdown",
   "metadata": {},
   "source": [
    "#### Aggregate by sesssion id and creates the sequential features"
   ]
  },
  {
   "cell_type": "code",
   "execution_count": 170,
   "metadata": {},
   "outputs": [],
   "source": [
    "# features to include in the data frame for training\n",
    "groupby_feats = ['user_session','event_time_ts','category_code','brand','user_id','product_id','category_id','event_type','session_time','sessiontime_weekday','weekday_sin','weekday_cos','product_recency_days_log_norm','price_log_norm','relative_price_to_avg_categ']\n",
    "gdf = df[groupby_feats]"
   ]
  },
  {
   "cell_type": "code",
   "execution_count": null,
   "metadata": {},
   "outputs": [],
   "source": []
  }
 ],
 "metadata": {
  "interpreter": {
   "hash": "949777d72b0d2535278d3dc13498b2535136f6dfe0678499012e853ee9abcab1"
  },
  "kernelspec": {
   "display_name": "Python 3.9.7 64-bit",
   "language": "python",
   "name": "python3"
  },
  "language_info": {
   "codemirror_mode": {
    "name": "ipython",
    "version": 3
   },
   "file_extension": ".py",
   "mimetype": "text/x-python",
   "name": "python",
   "nbconvert_exporter": "python",
   "pygments_lexer": "ipython3",
   "version": "3.9.7"
  },
  "orig_nbformat": 4
 },
 "nbformat": 4,
 "nbformat_minor": 2
}
